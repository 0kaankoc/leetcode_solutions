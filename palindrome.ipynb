{
 "cells": [
  {
   "cell_type": "code",
   "execution_count": 260,
   "id": "738a6bdf-5628-4d25-88dc-9c650cc64e3b",
   "metadata": {},
   "outputs": [],
   "source": [
    "import time\n",
    "\n",
    "class Solution:\n",
    "    def __init__(self):\n",
    "        self.func_time = None\n",
    "        self.func2_time = None\n",
    "\n",
    "    def isPalindrome(self,x):\n",
    "        start = time.perf_counter()\n",
    "\n",
    "        self.x=x\n",
    "        if x<0:\n",
    "            return False\n",
    "\n",
    "        first_num=x\n",
    "        rev_num=0\n",
    "        \n",
    "        while x>0:\n",
    "            \n",
    "            digit=x%10\n",
    "            \n",
    "            rev_num=rev_num *10 + digit\n",
    "    \n",
    "            x = x // 10\n",
    "        \n",
    "        stop = time.perf_counter()\n",
    "        self.func_time = stop - start\n",
    "\n",
    "        result= (\"YES! This is a palindrome number!\" if (first_num==rev_num) else \"NO! This isn't a palindrome number!\")\n",
    "        return result,f\"function working time: {self.func_time:.15f}\"\n",
    "\n",
    "    \n",
    "    def StringİsPalindrome(self,x):\n",
    "        start2 = time.perf_counter()\n",
    "        rev=x[::-1]\n",
    "        stop2 = time.perf_counter()\n",
    "        self.func2_time=stop2 - start2\n",
    "\n",
    "        result=(\"YES! This is a palindrome number!\" if x==rev else \"NO! This isn't a palindrome number!\") \n",
    "        return result,f\"function working time {self.func2_time:.15f}\"\n",
    "        \n",
    "\n"
   ]
  },
  {
   "cell_type": "code",
   "execution_count": 262,
   "id": "738ae780-d11d-40ca-a500-4c85e49d4200",
   "metadata": {},
   "outputs": [
    {
     "name": "stdout",
     "output_type": "stream",
     "text": [
      "(\"NO! This isn't a palindrome number!\", 'String function working time: 0.000003799999831')\n"
     ]
    }
   ],
   "source": [
    "print(Solution().isPalindrome(14221))"
   ]
  },
  {
   "cell_type": "code",
   "execution_count": 264,
   "id": "ab58410f-a54e-463f-a498-87d9df8d55bd",
   "metadata": {},
   "outputs": [
    {
     "name": "stdout",
     "output_type": "stream",
     "text": [
      "('YES! This is a palindrome number!', 'String function working time: 0.000002599999789')\n"
     ]
    }
   ],
   "source": [
    "print(Solution().isPalindrome(121))"
   ]
  },
  {
   "cell_type": "code",
   "execution_count": 266,
   "id": "c6c84f65-c5e0-4b07-ae85-440ffb3b0793",
   "metadata": {},
   "outputs": [
    {
     "name": "stdout",
     "output_type": "stream",
     "text": [
      "('YES! This is a palindrome number!', 'String function working time 0.000000800000635')\n"
     ]
    }
   ],
   "source": [
    "print(Solution().StringİsPalindrome(\"121\"))"
   ]
  },
  {
   "cell_type": "code",
   "execution_count": null,
   "id": "b22a9745-711c-49b4-b0c3-f86d01897abd",
   "metadata": {},
   "outputs": [],
   "source": []
  },
  {
   "cell_type": "code",
   "execution_count": null,
   "id": "b5851bfd-299c-4155-b531-86b6781f3eac",
   "metadata": {},
   "outputs": [],
   "source": []
  }
 ],
 "metadata": {
  "kernelspec": {
   "display_name": "Python [conda env:base] *",
   "language": "python",
   "name": "conda-base-py"
  },
  "language_info": {
   "codemirror_mode": {
    "name": "ipython",
    "version": 3
   },
   "file_extension": ".py",
   "mimetype": "text/x-python",
   "name": "python",
   "nbconvert_exporter": "python",
   "pygments_lexer": "ipython3",
   "version": "3.12.7"
  }
 },
 "nbformat": 4,
 "nbformat_minor": 5
}
