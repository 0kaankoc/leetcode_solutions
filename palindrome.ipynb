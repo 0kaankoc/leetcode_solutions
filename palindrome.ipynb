{
 "cells": [
  {
   "cell_type": "code",
   "execution_count": 155,
   "id": "738a6bdf-5628-4d25-88dc-9c650cc64e3b",
   "metadata": {},
   "outputs": [],
   "source": [
    "import time\n",
    "\n",
    "class Solution:\n",
    "\n",
    "    def __init__(self):\n",
    "        self.start = time.time()  # start time\n",
    "        self.stop = 0\n",
    "        self.stop2 = 0\n",
    "    def isPalindrome(self,x):\n",
    "        self.x=x\n",
    "        if x<0:\n",
    "            return False\n",
    "\n",
    "        first_num=x\n",
    "        rev_num=0\n",
    "        \n",
    "        while x>0:\n",
    "            \n",
    "            digit=x%10\n",
    "            \n",
    "            rev_num=rev_num *10 + digit\n",
    "    \n",
    "            x = x // 10\n",
    "        \n",
    "        self.stop=time.time()\n",
    "\n",
    "        return (\"YES! This is a palindrome number!\" if (first_num==rev_num) else \"NO! This isn't a palindrome number!\")\n",
    "    \n",
    "    def StringİsPalindrome(self,x):\n",
    "        self.start2 = time.time()\n",
    "        rev=x[::-1]\n",
    "        self.stop2=time.time()\n",
    "\n",
    "        return (\"YES! This is a palindrome number!\" if x==rev else \"NO! This isn't a palindrome number!\") \n",
    "\n",
    "    def def_time(self):     \n",
    "        firstDef_time=self.stop - self.start\n",
    "        SecondDef_time=self.stop2 - self.start2\n",
    "        return print(f\"first function is working time {firstDef_time}\\n second function is working time: {SecondDef_time} \")\n"
   ]
  },
  {
   "cell_type": "code",
   "execution_count": 157,
   "id": "738ae780-d11d-40ca-a500-4c85e49d4200",
   "metadata": {},
   "outputs": [
    {
     "name": "stdout",
     "output_type": "stream",
     "text": [
      "NO! This isn't a palindrome number!\n"
     ]
    }
   ],
   "source": [
    "print(Solution().isPalindrome(14221))"
   ]
  },
  {
   "cell_type": "code",
   "execution_count": 159,
   "id": "ab58410f-a54e-463f-a498-87d9df8d55bd",
   "metadata": {},
   "outputs": [
    {
     "name": "stdout",
     "output_type": "stream",
     "text": [
      "YES! This is a palindrome number!\n"
     ]
    }
   ],
   "source": [
    "print(Solution().isPalindrome(121))"
   ]
  },
  {
   "cell_type": "code",
   "execution_count": 161,
   "id": "8629b524-4072-4c67-b687-f311136ddb26",
   "metadata": {},
   "outputs": [
    {
     "ename": "AttributeError",
     "evalue": "'Solution' object has no attribute 'start2'",
     "output_type": "error",
     "traceback": [
      "\u001b[1;31m---------------------------------------------------------------------------\u001b[0m",
      "\u001b[1;31mAttributeError\u001b[0m                            Traceback (most recent call last)",
      "Cell \u001b[1;32mIn[161], line 2\u001b[0m\n\u001b[0;32m      1\u001b[0m times\u001b[38;5;241m=\u001b[39mSolution()\n\u001b[1;32m----> 2\u001b[0m times\u001b[38;5;241m.\u001b[39mdef_time()\n",
      "Cell \u001b[1;32mIn[155], line 38\u001b[0m, in \u001b[0;36mSolution.def_time\u001b[1;34m(self)\u001b[0m\n\u001b[0;32m     36\u001b[0m \u001b[38;5;28;01mdef\u001b[39;00m \u001b[38;5;21mdef_time\u001b[39m(\u001b[38;5;28mself\u001b[39m):     \n\u001b[0;32m     37\u001b[0m     firstDef_time\u001b[38;5;241m=\u001b[39m\u001b[38;5;28mself\u001b[39m\u001b[38;5;241m.\u001b[39mstop \u001b[38;5;241m-\u001b[39m \u001b[38;5;28mself\u001b[39m\u001b[38;5;241m.\u001b[39mstart\n\u001b[1;32m---> 38\u001b[0m     SecondDef_time\u001b[38;5;241m=\u001b[39m\u001b[38;5;28mself\u001b[39m\u001b[38;5;241m.\u001b[39mstop2 \u001b[38;5;241m-\u001b[39m \u001b[38;5;28mself\u001b[39m\u001b[38;5;241m.\u001b[39mstart2\n\u001b[0;32m     39\u001b[0m     \u001b[38;5;28;01mreturn\u001b[39;00m \u001b[38;5;28mprint\u001b[39m(\u001b[38;5;124mf\u001b[39m\u001b[38;5;124m\"\u001b[39m\u001b[38;5;124mfirst function is working time \u001b[39m\u001b[38;5;132;01m{\u001b[39;00mfirstDef_time\u001b[38;5;132;01m}\u001b[39;00m\u001b[38;5;130;01m\\n\u001b[39;00m\u001b[38;5;124m second function is working time: \u001b[39m\u001b[38;5;132;01m{\u001b[39;00mSecondDef_time\u001b[38;5;132;01m}\u001b[39;00m\u001b[38;5;124m \u001b[39m\u001b[38;5;124m\"\u001b[39m)\n",
      "\u001b[1;31mAttributeError\u001b[0m: 'Solution' object has no attribute 'start2'"
     ]
    }
   ],
   "source": [
    "times=Solution()\n",
    "times.def_time()"
   ]
  },
  {
   "cell_type": "code",
   "execution_count": null,
   "id": "e7bc822e-8486-459d-8f91-ab59ea2d43ed",
   "metadata": {},
   "outputs": [],
   "source": []
  },
  {
   "cell_type": "code",
   "execution_count": null,
   "id": "803304cf-509b-43c4-aed9-193262e63ff5",
   "metadata": {},
   "outputs": [],
   "source": []
  }
 ],
 "metadata": {
  "kernelspec": {
   "display_name": "Python [conda env:base] *",
   "language": "python",
   "name": "conda-base-py"
  },
  "language_info": {
   "codemirror_mode": {
    "name": "ipython",
    "version": 3
   },
   "file_extension": ".py",
   "mimetype": "text/x-python",
   "name": "python",
   "nbconvert_exporter": "python",
   "pygments_lexer": "ipython3",
   "version": "3.12.7"
  }
 },
 "nbformat": 4,
 "nbformat_minor": 5
}
